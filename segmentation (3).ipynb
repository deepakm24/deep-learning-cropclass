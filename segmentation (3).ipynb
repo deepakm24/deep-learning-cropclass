{
 "cells": [
  {
   "cell_type": "code",
   "execution_count": null,
   "id": "eceebfb6",
   "metadata": {},
   "outputs": [],
   "source": [
    "#edge\n",
    "from os import listdir\n",
    "from os.path import isfile, join\n",
    "import numpy\n",
    "import cv2\n",
    "import os\n",
    "\n",
    "mypath='E:\\FYP\\dataset_trail'\n",
    "onlyfiles = [ f for f in listdir(mypathc) if isfile(join(mypath,f)) ]\n",
    "images = numpy.empty(len(onlyfiles), dtype=object)\n",
    "for n in range(0,len(onlyfiles) ):\n",
    "    images[n] = cv2.imread( join(mypath,onlyfiles[n]) )\n",
    "\n",
    "    path = 'E:\\FYP\\phase2_segmentation\\edge'\n",
    "    edge = cv2.edgePreservingFilter(images[n],sigma_s=40, sigma_r=0.3)\n",
    "    cv2.imwrite(os.path.join(path , 'edge['+str(n)+'].jpg'),edge)\n",
    "    "
   ]
  },
  {
   "cell_type": "code",
   "execution_count": null,
   "id": "1295fe28",
   "metadata": {},
   "outputs": [],
   "source": [
    "#stylize leaf boundary\n",
    "from os import listdir\n",
    "from os.path import isfile, join\n",
    "import numpy\n",
    "import cv2\n",
    "import os\n",
    "mypath='E:\\FYP\\phase2_segmentation\\edge'\n",
    "onlyfiles = [ f for f in listdir(mypath) if isfile(join(mypath,f)) ]\n",
    "\n",
    "\n",
    "images = numpy.empty(len(onlyfiles), dtype=object)\n",
    "for n in range(0, len(onlyfiles)):\n",
    "    images[n] = cv2.imread( join(mypath,'edge['+str(n)+'].jpg'))\n",
    "    path = 'E:\\FYP\\phase2_segmentation\\stylize'\n",
    "    sty = cv2.stylization(images[n], sigma_s=60, sigma_r=0.07)\n",
    "    cv2.imwrite(os.path.join(path , 'sty['+str(n)+'].jpg'),sty)\n",
    "    \n",
    "\n",
    "\n"
   ]
  },
  {
   "cell_type": "code",
   "execution_count": null,
   "id": "8851aeb8",
   "metadata": {},
   "outputs": [],
   "source": [
    "\n",
    "from os import listdir\n",
    "from os.path import isfile, join\n",
    "import numpy\n",
    "import cv2\n",
    "import os\n",
    "mypath='E:\\FYP\\phase2_segmentation\\stylize'\n",
    "onlyfiles = [ f for f in listdir(mypath) if isfile(join(mypath,f)) ]\n",
    "images = numpy.empty(len(onlyfiles), dtype=object)\n",
    "for n in range(0, len(onlyfiles)):\n",
    "    images[n] = cv2.imread( join(mypath, 'sty['+str(n)+'].jpg') )\n",
    "    path = 'E:\\FYP\\phase2_segmentation\\gray'\n",
    "    gray_image = cv2.cvtColor(images[n], cv2.COLOR_BGR2GRAY)\n",
    "    cv2.imwrite(os.path.join(path , 'gray['+str(n)+'].jpg'),gray_image)\n",
    "    \n"
   ]
  },
  {
   "cell_type": "code",
   "execution_count": null,
   "id": "ef28a363",
   "metadata": {},
   "outputs": [],
   "source": [
    "from os import listdir\n",
    "from os.path import isfile, join\n",
    "import numpy\n",
    "import cv2 \n",
    "import os\n",
    "mypath='E:\\FYP\\phase2_segmentation\\gray'\n",
    "onlyfiles = [ f for f in listdir(mypath) if isfile(join(mypath,f)) ]\n",
    "images = numpy.empty(len(onlyfiles), dtype=object)\n",
    "for n in range(0,len(onlyfiles)):\n",
    "    images[n] = cv2.imread( join(mypath,'gray['+str(n)+'].jpg') )\n",
    "    path = 'E:\\FYP\\phase2_segmentation\\Binary_'\n",
    "    (ret2,th2) = cv2.threshold(images[n],128,255,cv2.THRESH_BINARY)\n",
    "    cv2.imwrite(os.path.join(path , 'binary['+str(n)+'].jpg'),th2)\n",
    "    "
   ]
  },
  {
   "cell_type": "code",
   "execution_count": null,
   "id": "ca55a52d",
   "metadata": {},
   "outputs": [],
   "source": [
    "#inverse the binary image\n",
    "from os import listdir\n",
    "from os.path import isfile, join\n",
    "import numpy\n",
    "import cv2\n",
    "import os\n",
    "\n",
    "mypath='E:\\FYP\\phase2_segmentation\\Binary_'\n",
    "onlyfiles = [ f for f in listdir(mypath) if isfile(join(mypath,f)) ]\n",
    "images = numpy.empty(len(onlyfiles), dtype=object)\n",
    "for n in range(0, len(onlyfiles)):\n",
    "    images[n] = cv2.imread( join(mypath,'binary['+str(n)+'].jpg') )\n",
    "\n",
    "    path = 'E:\\FYP\\phase2_segmentation\\Inverse'\n",
    "    ret,thresh1 = cv2.threshold(images[n],70,155,cv2.THRESH_BINARY_INV)\n",
    "    cv2.imwrite(os.path.join(path , 'inv['+str(n)+'].jpg'),thresh1)\n",
    "    \n",
    "\n",
    "\n"
   ]
  },
  {
   "cell_type": "code",
   "execution_count": null,
   "id": "c2497f95",
   "metadata": {},
   "outputs": [],
   "source": [
    "from PIL import Image\n",
    "from os import listdir\n",
    "from os.path import isfile, join\n",
    "import numpy as np\n",
    "import cv2\n",
    "import os\n",
    "mypath='E:\\FYP\\phase2_segmentation\\edge'\n",
    "mypath2='E:\\FYP\\phase2_segmentation\\Inverse'\n",
    "onlyfiles = [ f for f in listdir(mypath) if isfile(join(mypath,f)) ]\n",
    "onlyfiles2 = [ f for f in listdir(mypath2) if isfile(join(mypath2,f)) ]\n",
    "images = numpy.empty(len(onlyfiles), dtype=object)\n",
    "images2 = numpy.empty(len(onlyfiles2), dtype=object)\n",
    "for n in range(0, len(onlyfiles)):\n",
    "    images[n] = cv2.imread( join(mypath,'edge['+str(n)+'].jpg') )\n",
    "\n",
    "    images2[n] = cv2.imread( join(mypath2,'inv['+str(n)+'].jpg'))\n",
    "    path = 'E:\\FYP\\phase2_segmentation\\final'\n",
    "    cond = images2[n]<128\n",
    "\n",
    "\n",
    "    pixels=np.where(cond, images[n], images2[n])\n",
    "    cv2.imwrite(os.path.join(path , 'fin['+str(n)+'].jpg'),pixels)\n",
    "    \n"
   ]
  }
 ],
 "metadata": {
  "kernelspec": {
   "display_name": "Python 3 (ipykernel)",
   "language": "python",
   "name": "python3"
  },
  "language_info": {
   "codemirror_mode": {
    "name": "ipython",
    "version": 3
   },
   "file_extension": ".py",
   "mimetype": "text/x-python",
   "name": "python",
   "nbconvert_exporter": "python",
   "pygments_lexer": "ipython3",
   "version": "3.9.12"
  }
 },
 "nbformat": 4,
 "nbformat_minor": 5
}
